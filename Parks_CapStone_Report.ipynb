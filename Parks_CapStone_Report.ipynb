{
 "cells": [
  {
   "cell_type": "markdown",
   "metadata": {},
   "source": [
    "# Capstone: Find the best neighborhood in Toronto to open a Restaurant Supply Store\n",
    "\n",
    "\n",
    "## Introduction:\n",
    "\n",
    "A friend of mine who runs a bike rental shop in a big city has dicided to start serving NYC and is wondering how manny locations he will need. he as asked my as a data guy to help him out. \n",
    "\n",
    "## Problem Description:\n",
    "\n",
    "Givvin that a bike rental will do very well near parks which is abundent in the city and a single store location can serve multple parks he would like to know how many clouseters of parks are there in NYC<br>\n",
    "\n",
    "\n",
    "\n",
    "\n"
   ]
  },
  {
   "cell_type": "markdown",
   "metadata": {},
   "source": [
    "## Data Used:\n",
    "\n",
    "You can follow along in my Capstone Notebook located here:<br>\n",
    "https://github.com/ynspitzer/Coursera_Capstone/blob/main/Parks%20Capstone.ipynb <br>\n",
    "\n",
    "### Data Wrangling\n",
    "\n",
    "A lot of hard work went into creating the working data set.<br>\n",
    "I had to combine the following disparate data sources. The order of events went like this\n",
    "\n",
    "#### Load all the Data from all the various sources.\n",
    "#### NYC neighborhoods broken down Nighborhood\n",
    "#### used the below file\n",
    "https://cf-courses-data.s3.us.cloud-object-storage.appdomain.cloud/IBMDeveloperSkillsNetwork-DS0701EN-SkillsNetwork/labs/newyork_data.json<br>\n",
    "\n",
    "#### File was Proccesed and placed in a Pandas Data Frame\n",
    "\n",
    "#### Used Fousquare Service the figure out where the parks are\n",
    "\n",
    "#### then the Parks data was also placed in a pandas Data Frame\n",
    "\n",
    "\n",
    "\n"
   ]
  },
  {
   "cell_type": "markdown",
   "metadata": {},
   "source": [
    "## Methodology:\n",
    "### Choice of Algorithms <br>\n",
    "I chose K-Means Clustering. <br>\n",
    "https://towardsdatascience.com/clustering-algorithms-for-customer-segmentation-af637c6830ac <br>\n",
    "\n",
    "A backgrounder on K-Means clustering <br>\n",
    "“K-means clustering is an iterative clustering algorithm where the number of clusters K is predetermined and the algorithm iteratively assigns each data <br> point to one of the K clusters based on the feature similarity.” <br>\n",
    "\n",
    "\n",
    "\n",
    "### Choosing the correct number of clusters. <br>\n",
    "https://www.jeremyjordan.me/grouping-data-points-with-k-means-clustering/ <br>\n",
    "Here I use Silhouette analysis to determine the optimum number of clusters to use. <br>\n",
    "\n",
    "A backgrounder on Silhouette analysis.\n",
    "\n",
    "“We can use Silhouette analysis to evaluate each model. A Silhouette coefficient is calculated for observation, which is then averaged to determine the Silhouette score. <br>\n",
    "The coefficient combines the average within-cluster distance with average nearest-cluster distance to assign a value between -1 and 1. A value below zero  <br>denotes that the observation is probably in the wrong cluster and a value closer to 1 denotes that the observation is a great fit for the cluster and  <br>clearly separated from other clusters. This coefficient essentially measures how close an observation is to neighboring clusters, where it is desirable <br> to be the maximum distance possible from neighboring clusters. <br>\n",
    "We can automatically determine the best number of clusters, k, by selecting the model which yields the highest Silhouette score.” <br>\n",
    "\n",
    "*** Key Observation: My highest score was 4. *** <br>\n",
    "\n",
    "### Run K means and segment data into clusters and generate labels\n",
    "\n",
    "\n",
    "\n",
    "### Add the KMeans Labels\n",
    "Determine how the parks are clostered so we can then visualize  on a map\n",
    "\n",
    "\n",
    "\n",
    "\n"
   ]
  },
  {
   "cell_type": "markdown",
   "metadata": {},
   "source": [
    "## Results:"
   ]
  },
  {
   "cell_type": "markdown",
   "metadata": {},
   "source": [
    "### after  ploting the clusters on a Map of the NYC and show where the parks are and how many store loactions are needed to serve them we concluded that 4 locations could serve NYC"
   ]
  },
  {
   "cell_type": "code",
   "execution_count": null,
   "metadata": {},
   "outputs": [],
   "source": []
  }
 ],
 "metadata": {
  "kernelspec": {
   "display_name": "Python 3",
   "language": "python",
   "name": "python3"
  },
  "language_info": {
   "codemirror_mode": {
    "name": "ipython",
    "version": 3
   },
   "file_extension": ".py",
   "mimetype": "text/x-python",
   "name": "python",
   "nbconvert_exporter": "python",
   "pygments_lexer": "ipython3",
   "version": "3.8.3"
  }
 },
 "nbformat": 4,
 "nbformat_minor": 2
}
